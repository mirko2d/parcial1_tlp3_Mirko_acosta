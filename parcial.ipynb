{
 "cells": [
  {
   "cell_type": "markdown",
   "id": "9fee5ee9",
   "metadata": {},
   "source": [
    "# Examen Parcial n°1 2da Parte - TLP3 - Python para Ciencia de Datos.\n"
   ]
  },
  {
   "cell_type": "markdown",
   "id": "999099d0",
   "metadata": {},
   "source": [
    "**A partir del datasets brindado, realizar los siguientes procedimientos:**\n",
    "\n",
    "* Importar datasets con Pandas.\n",
    "* Explorar los datos con los metodos correspondientes. \n",
    "* Limpieza de los datos (Normalización de datos).\n",
    "* Obtener estadisticas.\n",
    "* Mostrar los datos procesados con graficos utilizando la libreria Matplotlib.\n",
    "* Exportar el contenido a un archivo sqlite utilizando PANDAS.\n",
    "\n",
    "\n",
    "**Importante: Se debe documentar cada procedimiento realizado, siguiendo la siguiente estructura:**\n",
    "\n",
    "1. Celda de Markdown (Documentación)\n",
    "2. Código (Sin comentarios, se debe documentar lo sufiente solo en la celda de markdown).\n",
    "\n",
    "\n",
    "### Criterios de Evaluación:\n",
    "\n",
    "1. No esta permitido el uso de IAs durante el examen. (Desactivar Copilot o cualquier herramienta de IA para autocompletar codigo.)\n",
    "\n",
    "2. Se deben utilizar nombres de variables descriptivos y claros (Utilizar la nomeclatura correspondiente para los nombres de variables).\n",
    "\n",
    "3. Comentarios claros y concisos que expliquen el propósito de cada sección del código en una celda de markdown antes del código.\n",
    "\n",
    "4. Utilizar mensajes de commit descriptivos. (Puedes utilizar la extension CONVENTIONAL COMMIT de VS-CODE).\n",
    "\n",
    "5. Entrega en tiempo y forma (Parciales entregados fuera de hora o con commits pasados el horario de entrega quedará invalidado.)\n",
    "\n",
    "6. Todo el código desarrollado debe ser subido a un repositorio en GitHub (el nombre del repositorio de seguir la siguiente estructura: \n",
    "**parcial1_tlp3_nombre_apellido**).\n",
    "\n",
    "7. Para resolver las actividades se debe insertar casillas de codigo entre cada actividad del cuaderno de Jupyter.\n",
    "\n",
    "8. Deben trabajar con el datasets adjunto.\n",
    "\n",
    "9. Una vez finalizado el examen, los resultados deben quedar guardados debajo de cada celda (NO EJECUTAR LA OPCIÓN \"borrar todas las salidas\").\n",
    "\n",
    "**Importante:** Una vez finalizado el examen, marcar como completado en el classroom."
   ]
  },
  {
   "cell_type": "markdown",
   "id": "dd91f969",
   "metadata": {},
   "source": [
    "## Actividades: \n",
    "### 1. Importación del Dataset con Pandas\n",
    "\n",
    "En esta sección, se debe utilizar la librería Pandas para cargar el archivo CSV que contiene los datos de CALIFICACIONES en un DataFrame.\n",
    "\n",
    "### 2. Exploración Inicial de los Datos\n",
    "\n",
    "A continuación, se deben emplear métodos de Pandas para obtener una visión general del dataset. \n",
    "- 2.1: Visualizar las primeras filas y ultimas.\n",
    "- 2.2: Obtener informacion del df con su metodo correspondiente.\n",
    "- 2.3: Hacer un conteo de valores nulos.\n",
    "\n",
    "### 3. Limpieza y Normalización de los Datos\n",
    "\n",
    "- 3.1. Esta etapa crucial deben aplicar la corrección de diversos errores presentes en el dataset. Se abordarán los valores faltantes (Deben aplicar los metodos que ustedes crean convenientes **(Solo 1)**, por ejemplo: Eliminación de filas, cubrir valores con media, mediana, etc.)\n",
    "- 3.2: La columna Fecha deberan pasarla al tipo datetime con su metodo correspondiente.\n",
    "- 3.3: Corregir las mayusculas en el caso de Nombre y Apellido (Si es que corresponde.)\n",
    "\n",
    "\n",
    "### 4. Obtención de Estadísticas Descriptivas\n",
    "\n",
    "Después de la limpieza, deben hacer lo siguiente: \n",
    "\n",
    "- 4.1: calcular nuevamente las estadísticas descriptivas para observar el impacto del proceso de limpieza en los datos numéricos.\n",
    "- 4.2: Calcular estadísticas específicas por grupo (Agrupar dos columnas).\n",
    "\n",
    "### 5. Visualización de los Datos con Matplotlib\n",
    "\n",
    "En esta sección, deben utilizar la librería Matplotlib para crear **UNA** visualización que permitan comprender mejor los datos de ventas.El grafico es a elección, puede crear **UNO** de los siguientes: histogramas, diagramas de dispersión, gráficos de barras y graficos de torta.\n",
    "\n",
    "### 6. Exportación a Archivo SQLite\n",
    "\n",
    "Finalmente, deben utilizar la funcionalidad de Pandas para guardar el DataFrame procesado en una base de datos SQLite. Deben hacer una conexión y hacer una consulta para ver si los datos fueron cargados correctamente.\n",
    "\n"
   ]
  },
  {
   "cell_type": "markdown",
   "id": "b5cfc7b9",
   "metadata": {},
   "source": [
    "En esta sección, se debe utilizar la librería Pandas para cargar el archivo CSV que contiene los datos de CALIFICACIONES en un DataFrame.\n"
   ]
  },
  {
   "cell_type": "code",
   "execution_count": 7,
   "id": "5b363fbe",
   "metadata": {},
   "outputs": [],
   "source": [
    "import pandas as pd"
   ]
  },
  {
   "cell_type": "code",
   "execution_count": null,
   "id": "66f2e98f",
   "metadata": {},
   "outputs": [
    {
     "data": {
      "text/html": [
       "<div>\n",
       "<style scoped>\n",
       "    .dataframe tbody tr th:only-of-type {\n",
       "        vertical-align: middle;\n",
       "    }\n",
       "\n",
       "    .dataframe tbody tr th {\n",
       "        vertical-align: top;\n",
       "    }\n",
       "\n",
       "    .dataframe thead th {\n",
       "        text-align: right;\n",
       "    }\n",
       "</style>\n",
       "<table border=\"1\" class=\"dataframe\">\n",
       "  <thead>\n",
       "    <tr style=\"text-align: right;\">\n",
       "      <th></th>\n",
       "      <th>nombre</th>\n",
       "      <th>apellido</th>\n",
       "      <th>parcial1</th>\n",
       "      <th>parcial2</th>\n",
       "      <th>nota_final</th>\n",
       "      <th>fecha</th>\n",
       "      <th>aprobado</th>\n",
       "    </tr>\n",
       "  </thead>\n",
       "  <tbody>\n",
       "    <tr>\n",
       "      <th>0</th>\n",
       "      <td>federico</td>\n",
       "      <td>torres</td>\n",
       "      <td>NaN</td>\n",
       "      <td>6.9</td>\n",
       "      <td>6.1</td>\n",
       "      <td>2024-03-23</td>\n",
       "      <td>sí</td>\n",
       "    </tr>\n",
       "    <tr>\n",
       "      <th>1</th>\n",
       "      <td>federico</td>\n",
       "      <td>ramirez</td>\n",
       "      <td>8.7</td>\n",
       "      <td>6.6</td>\n",
       "      <td>NaN</td>\n",
       "      <td>2024-04-04</td>\n",
       "      <td>Aprobado</td>\n",
       "    </tr>\n",
       "    <tr>\n",
       "      <th>2</th>\n",
       "      <td>federico</td>\n",
       "      <td>fernandez</td>\n",
       "      <td>NaN</td>\n",
       "      <td>NaN</td>\n",
       "      <td>7.1</td>\n",
       "      <td>2024-10-27</td>\n",
       "      <td>NO</td>\n",
       "    </tr>\n",
       "    <tr>\n",
       "      <th>3</th>\n",
       "      <td>maría</td>\n",
       "      <td>torres</td>\n",
       "      <td>5.5</td>\n",
       "      <td>8.8</td>\n",
       "      <td>2.0</td>\n",
       "      <td>2024-06-14</td>\n",
       "      <td>NO</td>\n",
       "    </tr>\n",
       "    <tr>\n",
       "      <th>4</th>\n",
       "      <td>agustina</td>\n",
       "      <td>fernandez</td>\n",
       "      <td>6.8</td>\n",
       "      <td>7.3</td>\n",
       "      <td>4.0</td>\n",
       "      <td>2024-08-21</td>\n",
       "      <td>Si</td>\n",
       "    </tr>\n",
       "  </tbody>\n",
       "</table>\n",
       "</div>"
      ],
      "text/plain": [
       "     nombre   apellido  parcial1  parcial2  nota_final       fecha  aprobado\n",
       "0  federico     torres       NaN       6.9         6.1  2024-03-23        sí\n",
       "1  federico    ramirez       8.7       6.6         NaN  2024-04-04  Aprobado\n",
       "2  federico  fernandez       NaN       NaN         7.1  2024-10-27        NO\n",
       "3     maría     torres       5.5       8.8         2.0  2024-06-14        NO\n",
       "4  agustina  fernandez       6.8       7.3         4.0  2024-08-21        Si"
      ]
     },
     "execution_count": 8,
     "metadata": {},
     "output_type": "execute_result"
    }
   ],
   "source": [
    "df=pd.read_csv ('calificaciones.csv')\n"
   ]
  },
  {
   "cell_type": "markdown",
   "id": "221fc432",
   "metadata": {},
   "source": [
    "2. A continuación, se deben emplear métodos de Pandas para obtener una visión general del dataset. "
   ]
  },
  {
   "cell_type": "code",
   "execution_count": 13,
   "id": "f8cb1504",
   "metadata": {},
   "outputs": [
    {
     "data": {
      "text/html": [
       "<div>\n",
       "<style scoped>\n",
       "    .dataframe tbody tr th:only-of-type {\n",
       "        vertical-align: middle;\n",
       "    }\n",
       "\n",
       "    .dataframe tbody tr th {\n",
       "        vertical-align: top;\n",
       "    }\n",
       "\n",
       "    .dataframe thead th {\n",
       "        text-align: right;\n",
       "    }\n",
       "</style>\n",
       "<table border=\"1\" class=\"dataframe\">\n",
       "  <thead>\n",
       "    <tr style=\"text-align: right;\">\n",
       "      <th></th>\n",
       "      <th>nombre</th>\n",
       "      <th>apellido</th>\n",
       "      <th>parcial1</th>\n",
       "      <th>parcial2</th>\n",
       "      <th>nota_final</th>\n",
       "      <th>fecha</th>\n",
       "      <th>aprobado</th>\n",
       "    </tr>\n",
       "  </thead>\n",
       "  <tbody>\n",
       "    <tr>\n",
       "      <th>0</th>\n",
       "      <td>federico</td>\n",
       "      <td>torres</td>\n",
       "      <td>NaN</td>\n",
       "      <td>6.9</td>\n",
       "      <td>6.1</td>\n",
       "      <td>2024-03-23</td>\n",
       "      <td>sí</td>\n",
       "    </tr>\n",
       "    <tr>\n",
       "      <th>1</th>\n",
       "      <td>federico</td>\n",
       "      <td>ramirez</td>\n",
       "      <td>8.7</td>\n",
       "      <td>6.6</td>\n",
       "      <td>NaN</td>\n",
       "      <td>2024-04-04</td>\n",
       "      <td>Aprobado</td>\n",
       "    </tr>\n",
       "    <tr>\n",
       "      <th>2</th>\n",
       "      <td>federico</td>\n",
       "      <td>fernandez</td>\n",
       "      <td>NaN</td>\n",
       "      <td>NaN</td>\n",
       "      <td>7.1</td>\n",
       "      <td>2024-10-27</td>\n",
       "      <td>NO</td>\n",
       "    </tr>\n",
       "    <tr>\n",
       "      <th>3</th>\n",
       "      <td>maría</td>\n",
       "      <td>torres</td>\n",
       "      <td>5.5</td>\n",
       "      <td>8.8</td>\n",
       "      <td>2.0</td>\n",
       "      <td>2024-06-14</td>\n",
       "      <td>NO</td>\n",
       "    </tr>\n",
       "    <tr>\n",
       "      <th>4</th>\n",
       "      <td>agustina</td>\n",
       "      <td>fernandez</td>\n",
       "      <td>6.8</td>\n",
       "      <td>7.3</td>\n",
       "      <td>4.0</td>\n",
       "      <td>2024-08-21</td>\n",
       "      <td>Si</td>\n",
       "    </tr>\n",
       "  </tbody>\n",
       "</table>\n",
       "</div>"
      ],
      "text/plain": [
       "     nombre   apellido  parcial1  parcial2  nota_final       fecha  aprobado\n",
       "0  federico     torres       NaN       6.9         6.1  2024-03-23        sí\n",
       "1  federico    ramirez       8.7       6.6         NaN  2024-04-04  Aprobado\n",
       "2  federico  fernandez       NaN       NaN         7.1  2024-10-27        NO\n",
       "3     maría     torres       5.5       8.8         2.0  2024-06-14        NO\n",
       "4  agustina  fernandez       6.8       7.3         4.0  2024-08-21        Si"
      ]
     },
     "execution_count": 13,
     "metadata": {},
     "output_type": "execute_result"
    }
   ],
   "source": [
    "df.head()"
   ]
  },
  {
   "cell_type": "code",
   "execution_count": 14,
   "id": "2721280a",
   "metadata": {},
   "outputs": [
    {
     "data": {
      "text/html": [
       "<div>\n",
       "<style scoped>\n",
       "    .dataframe tbody tr th:only-of-type {\n",
       "        vertical-align: middle;\n",
       "    }\n",
       "\n",
       "    .dataframe tbody tr th {\n",
       "        vertical-align: top;\n",
       "    }\n",
       "\n",
       "    .dataframe thead th {\n",
       "        text-align: right;\n",
       "    }\n",
       "</style>\n",
       "<table border=\"1\" class=\"dataframe\">\n",
       "  <thead>\n",
       "    <tr style=\"text-align: right;\">\n",
       "      <th></th>\n",
       "      <th>nombre</th>\n",
       "      <th>apellido</th>\n",
       "      <th>parcial1</th>\n",
       "      <th>parcial2</th>\n",
       "      <th>nota_final</th>\n",
       "      <th>fecha</th>\n",
       "      <th>aprobado</th>\n",
       "    </tr>\n",
       "  </thead>\n",
       "  <tbody>\n",
       "    <tr>\n",
       "      <th>96</th>\n",
       "      <td>martín</td>\n",
       "      <td>gomez</td>\n",
       "      <td>4.1</td>\n",
       "      <td>8.7</td>\n",
       "      <td>NaN</td>\n",
       "      <td>2024-07-02</td>\n",
       "      <td>sí</td>\n",
       "    </tr>\n",
       "    <tr>\n",
       "      <th>97</th>\n",
       "      <td>andrés</td>\n",
       "      <td>gomez</td>\n",
       "      <td>1.2</td>\n",
       "      <td>NaN</td>\n",
       "      <td>3.9</td>\n",
       "      <td>2024-11-04</td>\n",
       "      <td>aprobado</td>\n",
       "    </tr>\n",
       "    <tr>\n",
       "      <th>98</th>\n",
       "      <td>federico</td>\n",
       "      <td>rodriguez</td>\n",
       "      <td>9.1</td>\n",
       "      <td>8.6</td>\n",
       "      <td>NaN</td>\n",
       "      <td>2024-05-11</td>\n",
       "      <td>Si</td>\n",
       "    </tr>\n",
       "    <tr>\n",
       "      <th>99</th>\n",
       "      <td>federico</td>\n",
       "      <td>pereyra</td>\n",
       "      <td>NaN</td>\n",
       "      <td>1.7</td>\n",
       "      <td>2.2</td>\n",
       "      <td>2024-05-20</td>\n",
       "      <td>Reprobado</td>\n",
       "    </tr>\n",
       "    <tr>\n",
       "      <th>100</th>\n",
       "      <td>federico</td>\n",
       "      <td>ruiz</td>\n",
       "      <td>3.5</td>\n",
       "      <td>7.1</td>\n",
       "      <td>8.6</td>\n",
       "      <td>2024-03-07</td>\n",
       "      <td>sí</td>\n",
       "    </tr>\n",
       "  </tbody>\n",
       "</table>\n",
       "</div>"
      ],
      "text/plain": [
       "       nombre   apellido  parcial1  parcial2  nota_final       fecha  \\\n",
       "96     martín      gomez       4.1       8.7         NaN  2024-07-02   \n",
       "97     andrés      gomez       1.2       NaN         3.9  2024-11-04   \n",
       "98   federico  rodriguez       9.1       8.6         NaN  2024-05-11   \n",
       "99   federico    pereyra       NaN       1.7         2.2  2024-05-20   \n",
       "100  federico       ruiz       3.5       7.1         8.6  2024-03-07   \n",
       "\n",
       "      aprobado  \n",
       "96          sí  \n",
       "97    aprobado  \n",
       "98          Si  \n",
       "99   Reprobado  \n",
       "100         sí  "
      ]
     },
     "execution_count": 14,
     "metadata": {},
     "output_type": "execute_result"
    }
   ],
   "source": [
    "df.tail()"
   ]
  },
  {
   "cell_type": "code",
   "execution_count": 9,
   "id": "5ba1af1b",
   "metadata": {},
   "outputs": [
    {
     "data": {
      "text/plain": [
       "(101, 7)"
      ]
     },
     "execution_count": 9,
     "metadata": {},
     "output_type": "execute_result"
    }
   ],
   "source": [
    "df.shape"
   ]
  },
  {
   "cell_type": "code",
   "execution_count": 10,
   "id": "1d7010ef",
   "metadata": {},
   "outputs": [
    {
     "data": {
      "text/plain": [
       "Index(['nombre', 'apellido', 'parcial1', 'parcial2', 'nota_final', 'fecha',\n",
       "       'aprobado'],\n",
       "      dtype='object')"
      ]
     },
     "execution_count": 10,
     "metadata": {},
     "output_type": "execute_result"
    }
   ],
   "source": [
    "df.columns"
   ]
  },
  {
   "cell_type": "code",
   "execution_count": 11,
   "id": "e3f7ca76",
   "metadata": {},
   "outputs": [
    {
     "data": {
      "text/plain": [
       "nombre         object\n",
       "apellido       object\n",
       "parcial1      float64\n",
       "parcial2      float64\n",
       "nota_final    float64\n",
       "fecha          object\n",
       "aprobado       object\n",
       "dtype: object"
      ]
     },
     "execution_count": 11,
     "metadata": {},
     "output_type": "execute_result"
    }
   ],
   "source": [
    "df.dtypes"
   ]
  },
  {
   "cell_type": "code",
   "execution_count": 12,
   "id": "27f37b58",
   "metadata": {},
   "outputs": [
    {
     "data": {
      "text/plain": [
       "nombre         0\n",
       "apellido       0\n",
       "parcial1      19\n",
       "parcial2      33\n",
       "nota_final    38\n",
       "fecha          0\n",
       "aprobado       0\n",
       "dtype: int64"
      ]
     },
     "execution_count": 12,
     "metadata": {},
     "output_type": "execute_result"
    }
   ],
   "source": [
    "df.isnull().sum()"
   ]
  },
  {
   "cell_type": "markdown",
   "id": "cbb5e1b4",
   "metadata": {},
   "source": [
    "3. Limpieza y normalizacion de datos"
   ]
  },
  {
   "cell_type": "markdown",
   "id": "f2b30901",
   "metadata": {},
   "source": [
    "manejo de valores faltantes"
   ]
  },
  {
   "cell_type": "code",
   "execution_count": 19,
   "id": "b2d4dc07",
   "metadata": {},
   "outputs": [
    {
     "name": "stderr",
     "output_type": "stream",
     "text": [
      "C:\\Users\\IPF-2025\\AppData\\Local\\Temp\\ipykernel_19424\\421457459.py:1: FutureWarning: A value is trying to be set on a copy of a DataFrame or Series through chained assignment using an inplace method.\n",
      "The behavior will change in pandas 3.0. This inplace method will never work because the intermediate object on which we are setting values always behaves as a copy.\n",
      "\n",
      "For example, when doing 'df[col].method(value, inplace=True)', try using 'df.method({col: value}, inplace=True)' or df[col] = df[col].method(value) instead, to perform the operation inplace on the original object.\n",
      "\n",
      "\n",
      "  df['parcial1'].fillna(df['parcial1'].mean(),inplace=True)\n",
      "C:\\Users\\IPF-2025\\AppData\\Local\\Temp\\ipykernel_19424\\421457459.py:2: FutureWarning: A value is trying to be set on a copy of a DataFrame or Series through chained assignment using an inplace method.\n",
      "The behavior will change in pandas 3.0. This inplace method will never work because the intermediate object on which we are setting values always behaves as a copy.\n",
      "\n",
      "For example, when doing 'df[col].method(value, inplace=True)', try using 'df.method({col: value}, inplace=True)' or df[col] = df[col].method(value) instead, to perform the operation inplace on the original object.\n",
      "\n",
      "\n",
      "  df['parcial2'].fillna(df['parcial2'].mean(),inplace=True)\n",
      "C:\\Users\\IPF-2025\\AppData\\Local\\Temp\\ipykernel_19424\\421457459.py:3: FutureWarning: A value is trying to be set on a copy of a DataFrame or Series through chained assignment using an inplace method.\n",
      "The behavior will change in pandas 3.0. This inplace method will never work because the intermediate object on which we are setting values always behaves as a copy.\n",
      "\n",
      "For example, when doing 'df[col].method(value, inplace=True)', try using 'df.method({col: value}, inplace=True)' or df[col] = df[col].method(value) instead, to perform the operation inplace on the original object.\n",
      "\n",
      "\n",
      "  df['nota_final'].fillna(df['nota_final'].mean(),inplace=True)\n"
     ]
    },
    {
     "data": {
      "text/html": [
       "<div>\n",
       "<style scoped>\n",
       "    .dataframe tbody tr th:only-of-type {\n",
       "        vertical-align: middle;\n",
       "    }\n",
       "\n",
       "    .dataframe tbody tr th {\n",
       "        vertical-align: top;\n",
       "    }\n",
       "\n",
       "    .dataframe thead th {\n",
       "        text-align: right;\n",
       "    }\n",
       "</style>\n",
       "<table border=\"1\" class=\"dataframe\">\n",
       "  <thead>\n",
       "    <tr style=\"text-align: right;\">\n",
       "      <th></th>\n",
       "      <th>nombre</th>\n",
       "      <th>apellido</th>\n",
       "      <th>parcial1</th>\n",
       "      <th>parcial2</th>\n",
       "      <th>nota_final</th>\n",
       "      <th>fecha</th>\n",
       "      <th>aprobado</th>\n",
       "    </tr>\n",
       "  </thead>\n",
       "  <tbody>\n",
       "    <tr>\n",
       "      <th>0</th>\n",
       "      <td>federico</td>\n",
       "      <td>torres</td>\n",
       "      <td>5.312195</td>\n",
       "      <td>6.900000</td>\n",
       "      <td>6.100000</td>\n",
       "      <td>2024-03-23</td>\n",
       "      <td>sí</td>\n",
       "    </tr>\n",
       "    <tr>\n",
       "      <th>1</th>\n",
       "      <td>federico</td>\n",
       "      <td>ramirez</td>\n",
       "      <td>8.700000</td>\n",
       "      <td>6.600000</td>\n",
       "      <td>5.890476</td>\n",
       "      <td>2024-04-04</td>\n",
       "      <td>Aprobado</td>\n",
       "    </tr>\n",
       "    <tr>\n",
       "      <th>2</th>\n",
       "      <td>federico</td>\n",
       "      <td>fernandez</td>\n",
       "      <td>5.312195</td>\n",
       "      <td>5.348529</td>\n",
       "      <td>7.100000</td>\n",
       "      <td>2024-10-27</td>\n",
       "      <td>NO</td>\n",
       "    </tr>\n",
       "    <tr>\n",
       "      <th>3</th>\n",
       "      <td>maría</td>\n",
       "      <td>torres</td>\n",
       "      <td>5.500000</td>\n",
       "      <td>8.800000</td>\n",
       "      <td>2.000000</td>\n",
       "      <td>2024-06-14</td>\n",
       "      <td>NO</td>\n",
       "    </tr>\n",
       "    <tr>\n",
       "      <th>4</th>\n",
       "      <td>agustina</td>\n",
       "      <td>fernandez</td>\n",
       "      <td>6.800000</td>\n",
       "      <td>7.300000</td>\n",
       "      <td>4.000000</td>\n",
       "      <td>2024-08-21</td>\n",
       "      <td>Si</td>\n",
       "    </tr>\n",
       "  </tbody>\n",
       "</table>\n",
       "</div>"
      ],
      "text/plain": [
       "     nombre   apellido  parcial1  parcial2  nota_final       fecha  aprobado\n",
       "0  federico     torres  5.312195  6.900000    6.100000  2024-03-23        sí\n",
       "1  federico    ramirez  8.700000  6.600000    5.890476  2024-04-04  Aprobado\n",
       "2  federico  fernandez  5.312195  5.348529    7.100000  2024-10-27        NO\n",
       "3     maría     torres  5.500000  8.800000    2.000000  2024-06-14        NO\n",
       "4  agustina  fernandez  6.800000  7.300000    4.000000  2024-08-21        Si"
      ]
     },
     "execution_count": 19,
     "metadata": {},
     "output_type": "execute_result"
    }
   ],
   "source": [
    "df['parcial1'].fillna(df['parcial1'].mean(),inplace=True)\n",
    "df['parcial2'].fillna(df['parcial2'].mean(),inplace=True)\n",
    "df['nota_final'].fillna(df['nota_final'].mean(),inplace=True)\n",
    "df.head()"
   ]
  },
  {
   "cell_type": "markdown",
   "id": "c3d59409",
   "metadata": {},
   "source": [
    "convertir una fecha a tipo datetime"
   ]
  },
  {
   "cell_type": "code",
   "execution_count": 20,
   "id": "1ffbd103",
   "metadata": {},
   "outputs": [
    {
     "data": {
      "text/plain": [
       "nombre                object\n",
       "apellido              object\n",
       "parcial1             float64\n",
       "parcial2             float64\n",
       "nota_final           float64\n",
       "fecha         datetime64[ns]\n",
       "aprobado              object\n",
       "dtype: object"
      ]
     },
     "execution_count": 20,
     "metadata": {},
     "output_type": "execute_result"
    }
   ],
   "source": [
    "df['fecha']=pd.to_datetime(df['fecha'])\n",
    "df.dtypes"
   ]
  },
  {
   "cell_type": "markdown",
   "id": "77af8669",
   "metadata": {},
   "source": [
    "corregimos las mayusculas y minusculas en nombre y apellido"
   ]
  },
  {
   "cell_type": "code",
   "execution_count": 23,
   "id": "001e847b",
   "metadata": {},
   "outputs": [
    {
     "data": {
      "text/html": [
       "<div>\n",
       "<style scoped>\n",
       "    .dataframe tbody tr th:only-of-type {\n",
       "        vertical-align: middle;\n",
       "    }\n",
       "\n",
       "    .dataframe tbody tr th {\n",
       "        vertical-align: top;\n",
       "    }\n",
       "\n",
       "    .dataframe thead th {\n",
       "        text-align: right;\n",
       "    }\n",
       "</style>\n",
       "<table border=\"1\" class=\"dataframe\">\n",
       "  <thead>\n",
       "    <tr style=\"text-align: right;\">\n",
       "      <th></th>\n",
       "      <th>nombre</th>\n",
       "      <th>apellido</th>\n",
       "      <th>parcial1</th>\n",
       "      <th>parcial2</th>\n",
       "      <th>nota_final</th>\n",
       "      <th>fecha</th>\n",
       "      <th>aprobado</th>\n",
       "    </tr>\n",
       "  </thead>\n",
       "  <tbody>\n",
       "    <tr>\n",
       "      <th>0</th>\n",
       "      <td>Federico</td>\n",
       "      <td>Torres</td>\n",
       "      <td>5.312195</td>\n",
       "      <td>6.900000</td>\n",
       "      <td>6.100000</td>\n",
       "      <td>2024-03-23</td>\n",
       "      <td>sí</td>\n",
       "    </tr>\n",
       "    <tr>\n",
       "      <th>1</th>\n",
       "      <td>Federico</td>\n",
       "      <td>Ramirez</td>\n",
       "      <td>8.700000</td>\n",
       "      <td>6.600000</td>\n",
       "      <td>5.890476</td>\n",
       "      <td>2024-04-04</td>\n",
       "      <td>Aprobado</td>\n",
       "    </tr>\n",
       "    <tr>\n",
       "      <th>2</th>\n",
       "      <td>Federico</td>\n",
       "      <td>Fernandez</td>\n",
       "      <td>5.312195</td>\n",
       "      <td>5.348529</td>\n",
       "      <td>7.100000</td>\n",
       "      <td>2024-10-27</td>\n",
       "      <td>NO</td>\n",
       "    </tr>\n",
       "    <tr>\n",
       "      <th>3</th>\n",
       "      <td>María</td>\n",
       "      <td>Torres</td>\n",
       "      <td>5.500000</td>\n",
       "      <td>8.800000</td>\n",
       "      <td>2.000000</td>\n",
       "      <td>2024-06-14</td>\n",
       "      <td>NO</td>\n",
       "    </tr>\n",
       "    <tr>\n",
       "      <th>4</th>\n",
       "      <td>Agustina</td>\n",
       "      <td>Fernandez</td>\n",
       "      <td>6.800000</td>\n",
       "      <td>7.300000</td>\n",
       "      <td>4.000000</td>\n",
       "      <td>2024-08-21</td>\n",
       "      <td>Si</td>\n",
       "    </tr>\n",
       "  </tbody>\n",
       "</table>\n",
       "</div>"
      ],
      "text/plain": [
       "     nombre   apellido  parcial1  parcial2  nota_final      fecha  aprobado\n",
       "0  Federico     Torres  5.312195  6.900000    6.100000 2024-03-23        sí\n",
       "1  Federico    Ramirez  8.700000  6.600000    5.890476 2024-04-04  Aprobado\n",
       "2  Federico  Fernandez  5.312195  5.348529    7.100000 2024-10-27        NO\n",
       "3     María     Torres  5.500000  8.800000    2.000000 2024-06-14        NO\n",
       "4  Agustina  Fernandez  6.800000  7.300000    4.000000 2024-08-21        Si"
      ]
     },
     "execution_count": 23,
     "metadata": {},
     "output_type": "execute_result"
    }
   ],
   "source": [
    "df['nombre']=df['nombre'].str.title()\n",
    "df['apellido']=df['apellido'].str.title()\n",
    "df.head()"
   ]
  },
  {
   "cell_type": "markdown",
   "id": "546892c2",
   "metadata": {},
   "source": [
    "4. Obtención de Estadísticas Descriptivas"
   ]
  },
  {
   "cell_type": "code",
   "execution_count": 24,
   "id": "41e01df3",
   "metadata": {},
   "outputs": [
    {
     "data": {
      "text/html": [
       "<div>\n",
       "<style scoped>\n",
       "    .dataframe tbody tr th:only-of-type {\n",
       "        vertical-align: middle;\n",
       "    }\n",
       "\n",
       "    .dataframe tbody tr th {\n",
       "        vertical-align: top;\n",
       "    }\n",
       "\n",
       "    .dataframe thead th {\n",
       "        text-align: right;\n",
       "    }\n",
       "</style>\n",
       "<table border=\"1\" class=\"dataframe\">\n",
       "  <thead>\n",
       "    <tr style=\"text-align: right;\">\n",
       "      <th></th>\n",
       "      <th>parcial1</th>\n",
       "      <th>parcial2</th>\n",
       "      <th>nota_final</th>\n",
       "      <th>fecha</th>\n",
       "    </tr>\n",
       "  </thead>\n",
       "  <tbody>\n",
       "    <tr>\n",
       "      <th>count</th>\n",
       "      <td>101.000000</td>\n",
       "      <td>101.000000</td>\n",
       "      <td>101.000000</td>\n",
       "      <td>101</td>\n",
       "    </tr>\n",
       "    <tr>\n",
       "      <th>mean</th>\n",
       "      <td>5.312195</td>\n",
       "      <td>5.348529</td>\n",
       "      <td>5.890476</td>\n",
       "      <td>2024-07-30 15:12:28.514851584</td>\n",
       "    </tr>\n",
       "    <tr>\n",
       "      <th>min</th>\n",
       "      <td>1.100000</td>\n",
       "      <td>1.100000</td>\n",
       "      <td>1.100000</td>\n",
       "      <td>2024-03-06 00:00:00</td>\n",
       "    </tr>\n",
       "    <tr>\n",
       "      <th>25%</th>\n",
       "      <td>3.700000</td>\n",
       "      <td>4.300000</td>\n",
       "      <td>5.200000</td>\n",
       "      <td>2024-05-14 00:00:00</td>\n",
       "    </tr>\n",
       "    <tr>\n",
       "      <th>50%</th>\n",
       "      <td>5.312195</td>\n",
       "      <td>5.348529</td>\n",
       "      <td>5.890476</td>\n",
       "      <td>2024-08-04 00:00:00</td>\n",
       "    </tr>\n",
       "    <tr>\n",
       "      <th>75%</th>\n",
       "      <td>7.100000</td>\n",
       "      <td>6.600000</td>\n",
       "      <td>6.700000</td>\n",
       "      <td>2024-10-08 00:00:00</td>\n",
       "    </tr>\n",
       "    <tr>\n",
       "      <th>max</th>\n",
       "      <td>9.600000</td>\n",
       "      <td>10.000000</td>\n",
       "      <td>9.900000</td>\n",
       "      <td>2024-12-28 00:00:00</td>\n",
       "    </tr>\n",
       "    <tr>\n",
       "      <th>std</th>\n",
       "      <td>2.404304</td>\n",
       "      <td>2.101547</td>\n",
       "      <td>1.829083</td>\n",
       "      <td>NaN</td>\n",
       "    </tr>\n",
       "  </tbody>\n",
       "</table>\n",
       "</div>"
      ],
      "text/plain": [
       "         parcial1    parcial2  nota_final                          fecha\n",
       "count  101.000000  101.000000  101.000000                            101\n",
       "mean     5.312195    5.348529    5.890476  2024-07-30 15:12:28.514851584\n",
       "min      1.100000    1.100000    1.100000            2024-03-06 00:00:00\n",
       "25%      3.700000    4.300000    5.200000            2024-05-14 00:00:00\n",
       "50%      5.312195    5.348529    5.890476            2024-08-04 00:00:00\n",
       "75%      7.100000    6.600000    6.700000            2024-10-08 00:00:00\n",
       "max      9.600000   10.000000    9.900000            2024-12-28 00:00:00\n",
       "std      2.404304    2.101547    1.829083                            NaN"
      ]
     },
     "execution_count": 24,
     "metadata": {},
     "output_type": "execute_result"
    }
   ],
   "source": [
    "df.describe()"
   ]
  },
  {
   "cell_type": "markdown",
   "id": "118ff112",
   "metadata": {},
   "source": [
    "media de nota final por nombre y apellido "
   ]
  },
  {
   "cell_type": "code",
   "execution_count": 25,
   "id": "db7a190a",
   "metadata": {},
   "outputs": [
    {
     "name": "stdout",
     "output_type": "stream",
     "text": [
      "nombre     apellido \n",
      "Agustina   Fernandez    4.945238\n",
      "           Lopez        9.400000\n",
      "           Pereyra      9.800000\n",
      "           Rodriguez    5.890476\n",
      "           Ruiz         5.890476\n",
      "                          ...   \n",
      "Valentina  Fernandez    6.200000\n",
      "           Lopez        3.000000\n",
      "           Pereyra      4.196825\n",
      "           Sanchez      5.890476\n",
      "           Torres       5.890476\n",
      "Name: nota_final, Length: 68, dtype: float64\n"
     ]
    }
   ],
   "source": [
    "promedios = df.groupby(['nombre','apellido'])['nota_final'].mean()\n",
    "print(promedios)"
   ]
  },
  {
   "cell_type": "code",
   "execution_count": null,
   "id": "403ae8fd",
   "metadata": {},
   "outputs": [],
   "source": []
  }
 ],
 "metadata": {
  "kernelspec": {
   "display_name": "Python 3",
   "language": "python",
   "name": "python3"
  },
  "language_info": {
   "codemirror_mode": {
    "name": "ipython",
    "version": 3
   },
   "file_extension": ".py",
   "mimetype": "text/x-python",
   "name": "python",
   "nbconvert_exporter": "python",
   "pygments_lexer": "ipython3",
   "version": "3.10.0"
  }
 },
 "nbformat": 4,
 "nbformat_minor": 5
}
